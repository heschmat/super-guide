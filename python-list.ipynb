{
 "cells": [
  {
   "cell_type": "markdown",
   "id": "expressed-demonstration",
   "metadata": {},
   "source": [
    "## List"
   ]
  },
  {
   "cell_type": "code",
   "execution_count": 1,
   "id": "regulation-satin",
   "metadata": {},
   "outputs": [
    {
     "data": {
      "text/plain": [
       "['running', 'non-fiction', 'chess', 'language learning']"
      ]
     },
     "execution_count": 1,
     "metadata": {},
     "output_type": "execute_result"
    }
   ],
   "source": [
    "hobbies = ['running', 'non-fiction', 'chess', 'language learning']\n",
    "hobbies"
   ]
  },
  {
   "cell_type": "code",
   "execution_count": 2,
   "id": "limiting-aside",
   "metadata": {},
   "outputs": [],
   "source": [
    "# here, basically `interests` will \"point\" to the same location\n",
    "# as `hobbies` does.\n",
    "# That is, if you change either of them, the other object will also\n",
    "# be affected. As they both refer to the same location in RAM.\n",
    "interests = hobbies"
   ]
  },
  {
   "cell_type": "code",
   "execution_count": 3,
   "id": "joined-symposium",
   "metadata": {},
   "outputs": [
    {
     "data": {
      "text/plain": [
       "True"
      ]
     },
     "execution_count": 3,
     "metadata": {},
     "output_type": "execute_result"
    }
   ],
   "source": [
    "interests is hobbies"
   ]
  },
  {
   "cell_type": "code",
   "execution_count": null,
   "id": "continuing-wichita",
   "metadata": {},
   "outputs": [],
   "source": []
  },
  {
   "cell_type": "code",
   "execution_count": 4,
   "id": "blocked-retrieval",
   "metadata": {},
   "outputs": [
    {
     "data": {
      "text/plain": [
       "(True, False)"
      ]
     },
     "execution_count": 4,
     "metadata": {},
     "output_type": "execute_result"
    }
   ],
   "source": [
    "# is vs. ==\n",
    "a = 2.0\n",
    "b = int(2)\n",
    "\n",
    "a == b, a is b"
   ]
  },
  {
   "cell_type": "code",
   "execution_count": 5,
   "id": "endless-carnival",
   "metadata": {},
   "outputs": [
    {
     "data": {
      "text/plain": [
       "False"
      ]
     },
     "execution_count": 5,
     "metadata": {},
     "output_type": "execute_result"
    }
   ],
   "source": [
    "# This will make a copy of the hobbies,\n",
    "# and then assigns that to the activities\n",
    "# i.e, they'll be in different location in RAM.\n",
    "activities = hobbies[:]\n",
    "\n",
    "activities is hobbies"
   ]
  },
  {
   "cell_type": "code",
   "execution_count": 6,
   "id": "substantial-meeting",
   "metadata": {},
   "outputs": [
    {
     "data": {
      "text/plain": [
       "(1997170750144, 1997170589760)"
      ]
     },
     "execution_count": 6,
     "metadata": {},
     "output_type": "execute_result"
    }
   ],
   "source": [
    "id(activities), id(hobbies)"
   ]
  },
  {
   "cell_type": "code",
   "execution_count": 7,
   "id": "frequent-gentleman",
   "metadata": {},
   "outputs": [
    {
     "data": {
      "text/plain": [
       "True"
      ]
     },
     "execution_count": 7,
     "metadata": {},
     "output_type": "execute_result"
    }
   ],
   "source": [
    "id(hobbies) == id(interests)"
   ]
  },
  {
   "cell_type": "code",
   "execution_count": 8,
   "id": "interior-poker",
   "metadata": {},
   "outputs": [
    {
     "name": "stdout",
     "output_type": "stream",
     "text": [
      ">>> hobbies: ['running', 'non-fiction', 'chess', 'language learning', 'political analysis']\n",
      ">>> interests: ['running', 'non-fiction', 'chess', 'language learning', 'political analysis']\n",
      ">>> activities: ['running', 'non-fiction', 'chess', 'language learning']\n"
     ]
    }
   ],
   "source": [
    "# both `hobbies` & `interests` point to the same memory,\n",
    "# hence, modification on one, affects the other.\n",
    "hobbies.append('political analysis')\n",
    "\n",
    "print(f'>>> hobbies: {hobbies}')\n",
    "print(f'>>> interests: {interests}')\n",
    "print(f'>>> activities: {activities}')"
   ]
  },
  {
   "cell_type": "code",
   "execution_count": 9,
   "id": "lesbian-buyer",
   "metadata": {},
   "outputs": [
    {
     "name": "stdout",
     "output_type": "stream",
     "text": [
      ">>> hobbies: ['ultru running', 'non-fiction', 'chess', 'language learning', 'political analysis']\n",
      ">>> interests: ['ultru running', 'non-fiction', 'chess', 'language learning', 'political analysis']\n",
      ">>> activities: ['running', 'non-fiction', 'chess', 'language learning']\n"
     ]
    }
   ],
   "source": [
    "interests[0] = 'ultru running'\n",
    "\n",
    "print(f'>>> hobbies: {hobbies}')\n",
    "print(f'>>> interests: {interests}')\n",
    "print(f'>>> activities: {activities}')"
   ]
  },
  {
   "cell_type": "code",
   "execution_count": null,
   "id": "progressive-exception",
   "metadata": {},
   "outputs": [],
   "source": []
  },
  {
   "cell_type": "code",
   "execution_count": null,
   "id": "fallen-arctic",
   "metadata": {},
   "outputs": [],
   "source": []
  },
  {
   "cell_type": "code",
   "execution_count": 10,
   "id": "silent-parameter",
   "metadata": {},
   "outputs": [],
   "source": [
    "import copy"
   ]
  },
  {
   "cell_type": "code",
   "execution_count": 11,
   "id": "curious-turner",
   "metadata": {},
   "outputs": [],
   "source": [
    "names = ['Facebook', 'Amazon', 'Apple', 'Netflix', 'Google']\n",
    "year_founded = ['04', '94', '76', '97', '98']"
   ]
  },
  {
   "cell_type": "code",
   "execution_count": 12,
   "id": "smaller-excuse",
   "metadata": {},
   "outputs": [],
   "source": [
    "# format: name, year founded\n",
    "companies = [names, year_founded]"
   ]
  },
  {
   "cell_type": "code",
   "execution_count": 13,
   "id": "fabulous-robertson",
   "metadata": {},
   "outputs": [],
   "source": [
    "big5 = companies # simple assignment\n",
    "faang_c = copy.copy(companies) # copy\n",
    "faang_dc = copy.deepcopy(companies) # deep copy"
   ]
  },
  {
   "cell_type": "code",
   "execution_count": 14,
   "id": "comfortable-checkout",
   "metadata": {},
   "outputs": [
    {
     "data": {
      "text/plain": [
       "(True, False, False)"
      ]
     },
     "execution_count": 14,
     "metadata": {},
     "output_type": "execute_result"
    }
   ],
   "source": [
    "# I hope it's intuitive.\n",
    "# When using `=` they both point to the same place.\n",
    "# When copy or deepcopy, a copy is made in a different place in memory.\n",
    "big5 is companies, faang_c is companies, faang_dc is companies"
   ]
  },
  {
   "cell_type": "code",
   "execution_count": 15,
   "id": "interracial-proportion",
   "metadata": {},
   "outputs": [
    {
     "name": "stdout",
     "output_type": "stream",
     "text": [
      "ix\t=\tcopy\tdeepcopy\n",
      "0\tTrue\tTrue\tFalse\n",
      "1\tTrue\tTrue\tFalse\n"
     ]
    }
   ],
   "source": [
    "print('ix\\t=\\tcopy\\tdeepcopy')\n",
    "for i, elm in enumerate(companies):\n",
    "    # note: elm is companies[i]\n",
    "    print(f'{i}\\t{elm is big5[i]}\\t{elm is faang_c[i]}\\t{elm is faang_dc[i]}')"
   ]
  },
  {
   "cell_type": "code",
   "execution_count": 16,
   "id": "occupational-cement",
   "metadata": {},
   "outputs": [
    {
     "name": "stdout",
     "output_type": "stream",
     "text": [
      "[['Facebook', 'Amazon', 'Apple', 'Netflix', 'Google'], ['04', '94', '76', '97', '98'], [0.9, 1.7, 2.2, 0.25, 1.5]]\n",
      "[['Facebook', 'Amazon', 'Apple', 'Netflix', 'Google'], ['04', '94', '76', '97', '98'], [0.9, 1.7, 2.2, 0.25, 1.5]]\n",
      "[['Facebook', 'Amazon', 'Apple', 'Netflix', 'Google'], ['04', '94', '76', '97', '98']]\n",
      "[['Facebook', 'Amazon', 'Apple', 'Netflix', 'Google'], ['04', '94', '76', '97', '98']]\n"
     ]
    }
   ],
   "source": [
    "# Add market cap\n",
    "companies.append([.9, 1.7, 2.2, .25, 1.5])\n",
    "\n",
    "print(companies)\n",
    "print(big5)\n",
    "print(faang_c)\n",
    "print(faang_dc)"
   ]
  },
  {
   "cell_type": "code",
   "execution_count": 77,
   "id": "offshore-cincinnati",
   "metadata": {},
   "outputs": [
    {
     "name": "stdout",
     "output_type": "stream",
     "text": [
      "[['Face', 'Amaz', 'Appl', 'Netf', 'Goog'], ['04', '94', '76', '97', '98'], [0.9, 1.7, 2.2, 0.25, 1.5]]\n",
      "[['Face', 'Amaz', 'Appl', 'Netf', 'Goog'], ['04', '94', '76', '97', '98'], [0.9, 1.7, 2.2, 0.25, 1.5]]\n",
      "[['Face', 'Amaz', 'Appl', 'Netf', 'Goog'], ['04', '94', '76', '97', '98']]\n",
      "[['Facebook', 'Amazon', 'Apple', 'Netflix', 'Google'], ['04', '94', '76', '97', '98']]\n"
     ]
    }
   ],
   "source": [
    "# Now, I'm going to modify the `names`\n",
    "# so that the company names will be the first 4 characters only.\n",
    "# Now, only `deepcopy` wont be affected,\n",
    "# As for the other 3, their first element\n",
    "# all refer to the same place in memory.\n",
    "for i, name in enumerate(companies[0]):\n",
    "    companies[0][i] = name[:4]\n",
    "    \n",
    "print(companies)\n",
    "print(big5)\n",
    "print(faang_c)\n",
    "print(faang_dc)"
   ]
  },
  {
   "cell_type": "code",
   "execution_count": 17,
   "id": "pretty-premiere",
   "metadata": {},
   "outputs": [
    {
     "name": "stdout",
     "output_type": "stream",
     "text": [
      "[['FB', 'AMZN', 'AAPL', 'NFLX', 'GOOG'], ['04', '94', '76', '97', '98'], [0.9, 1.7, 2.2, 0.25, 1.5]]\n",
      "[['FB', 'AMZN', 'AAPL', 'NFLX', 'GOOG'], ['04', '94', '76', '97', '98'], [0.9, 1.7, 2.2, 0.25, 1.5]]\n",
      "[['Facebook', 'Amazon', 'Apple', 'Netflix', 'Google'], ['04', '94', '76', '97', '98']]\n",
      "[['Facebook', 'Amazon', 'Apple', 'Netflix', 'Google'], ['04', '94', '76', '97', '98']]\n"
     ]
    }
   ],
   "source": [
    "symbols = ['FB', 'AMZN', 'AAPL', 'NFLX', 'GOOG']\n",
    "\n",
    "# Replace the names with symbols.\n",
    "# Now, we are not modifying the first the first element in `companies`.\n",
    "# We are `overwriting` it.\n",
    "# That's why also `copy` wont be affected.\n",
    "# But `=` will also change, as `companies` and `big5` are exactly the same.\n",
    "companies[0] = symbols\n",
    "\n",
    "print(companies)\n",
    "print(big5)\n",
    "print(faang_c)\n",
    "print(faang_dc)"
   ]
  },
  {
   "cell_type": "code",
   "execution_count": null,
   "id": "forced-duration",
   "metadata": {},
   "outputs": [],
   "source": []
  }
 ],
 "metadata": {
  "kernelspec": {
   "display_name": "Python 3",
   "language": "python",
   "name": "python3"
  },
  "language_info": {
   "codemirror_mode": {
    "name": "ipython",
    "version": 3
   },
   "file_extension": ".py",
   "mimetype": "text/x-python",
   "name": "python",
   "nbconvert_exporter": "python",
   "pygments_lexer": "ipython3",
   "version": "3.8.5"
  }
 },
 "nbformat": 4,
 "nbformat_minor": 5
}
